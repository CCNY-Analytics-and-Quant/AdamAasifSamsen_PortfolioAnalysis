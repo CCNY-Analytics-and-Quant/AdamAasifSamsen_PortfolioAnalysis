{
 "cells": [
  {
   "cell_type": "code",
   "execution_count": 16,
   "metadata": {},
   "outputs": [
    {
     "name": "stdout",
     "output_type": "stream",
     "text": [
      "[*********************100%%**********************]  7 of 7 completed\n",
      "[*********************100%%**********************]  7 of 7 completed\n",
      "[*********************100%%**********************]  10 of 10 completed\n",
      "[*********************100%%**********************]  7 of 7 completed\n",
      "[*********************100%%**********************]  7 of 7 completed\n"
     ]
    }
   ],
   "source": [
    "import pandas as pd \n",
    "import yfinance as yf\n",
    "import math\n",
    "import numpy as np \n",
    "import matplotlib as mlp\n",
    "import matplotlib.pyplot as plt \n",
    "import seaborn as sns\n",
    "\n",
    "\n",
    "#List of stocks/etfs to be used \n",
    "tickers_list = ['CRM', 'NVDA', 'ADBE', 'GS', 'PG', 'SMCI', 'NEE']\n",
    "tickers_list.sort()\n",
    "etf = ['SPY','IWM','DIA']\n",
    "\n",
    "#Different type of data pulls for Table 1\n",
    "data = yf.download(tickers_list, period='10y')#General All data\n",
    "ACdata = yf.download(tickers_list, period = '3mo')['Adj Close'] #Adjusted Close 3 month trail\n",
    "etf_ticker_data = yf.download(tickers_list + etf, period='1y')['Adj Close'] #Adjusted Close 12 month trail including ETFs\n",
    "Datahigh = yf.download(tickers_list, period='1y')['High']\n",
    "Datalow = yf.download(tickers_list, period='1y')['Low']"
   ]
  },
  {
   "cell_type": "code",
   "execution_count": 17,
   "metadata": {},
   "outputs": [],
   "source": [
    "##Portfolio Weight\n",
    "Adj_Closing_Prices= data['Adj Close'].iloc[-1]\n",
    "total_ACP = Adj_Closing_Prices.sum()\n",
    "\n",
    "portfolio_weight = []\n",
    "\n",
    "for Prices in Adj_Closing_Prices:\n",
    "    portfolio_weight_raw = (Prices/total_ACP)*100\n",
    "    portfolio_weight.append(round(portfolio_weight_raw,2))\n",
    "\n",
    "#Portfolio Weight Equally Distributed? \n",
    "n = len(tickers_list)\n",
    "weight = 1/n\n"
   ]
  },
  {
   "cell_type": "code",
   "execution_count": 18,
   "metadata": {},
   "outputs": [],
   "source": [
    "\n",
    "#Annualized Volatility \n",
    "\n",
    "returns = ACdata.pct_change().dropna() \n",
    "volatility_raw = returns.std()*(np.sqrt(252))*100 \n",
    "annualized_volatility = round(volatility_raw,2)\n"
   ]
  },
  {
   "cell_type": "code",
   "execution_count": 19,
   "metadata": {},
   "outputs": [],
   "source": [
    "\n",
    "#Function to use for each ETF to compare to Beta(Tickers/stocks)\n",
    "def against_etf(etf_symbol):\n",
    "    beta_values = []\n",
    "\n",
    "    for ticker in tickers_list:\n",
    "        # Extract daily returns for the current stock and ETF\n",
    "        stock_returns = etf_ticker_data[ticker].pct_change().dropna()\n",
    "        etf_returns = etf_ticker_data[etf_symbol].pct_change().dropna()\n",
    "\n",
    "        # Calculate covariance and variance\n",
    "        cov_matrix = np.cov(stock_returns, etf_returns, ddof=0)\n",
    "        stock_etf_cov = cov_matrix[0, 1]\n",
    "        etf_variance = np.var(etf_returns, ddof=0)\n",
    "\n",
    "        # Calculate beta\n",
    "        beta = round((stock_etf_cov / etf_variance),2)\n",
    "\n",
    "        beta_values.append(beta)\n",
    "\n",
    "    return beta_values\n",
    "    \n",
    "\n",
    "# Calculate beta for each ETF\n",
    "Beta_SPY = against_etf('SPY')\n",
    "Beta_IWM = against_etf('IWM')\n",
    "Beta_DIA = against_etf('DIA')"
   ]
  },
  {
   "cell_type": "code",
   "execution_count": 20,
   "metadata": {},
   "outputs": [],
   "source": [
    "#Average Weekly Drop Down \n",
    "avg_weekly_dd = []\n",
    "\n",
    "for ticker in tickers_list:\n",
    "    highsum = Datahigh[ticker].sum()\n",
    "    lowsum = Datalow[ticker].sum()\n",
    "    \n",
    "    high = highsum/52\n",
    "    low = lowsum/52\n",
    "\n",
    "    awdcalc = ((low - high)/high)*100\n",
    "    avg_weekly_dd.append(round(awdcalc , 2))\n"
   ]
  },
  {
   "cell_type": "code",
   "execution_count": 21,
   "metadata": {},
   "outputs": [],
   "source": [
    "#Same code differnt data function (note .max and .min)/ Maximum Weekly Drawdown \n",
    "max_weekly_dd = []\n",
    "for ticker in tickers_list:\n",
    "    highsummax = Datahigh[ticker].max()\n",
    "    lowsummin = Datalow[ticker].min()\n",
    "    \n",
    "    highmax = highsummax/52\n",
    "    lowmin = lowsummin/52\n",
    "\n",
    "    awdcalchm = ((lowmin - highmax)/highmax)*100 \n",
    "    max_weekly_dd.append(round(awdcalchm, 2))\n"
   ]
  },
  {
   "cell_type": "code",
   "execution_count": 22,
   "metadata": {},
   "outputs": [
    {
     "name": "stdout",
     "output_type": "stream",
     "text": [
      "[*********************100%%**********************]  1 of 1 completed\n",
      "[*********************100%%**********************]  1 of 1 completed\n",
      "[*********************100%%**********************]  1 of 1 completed\n",
      "[*********************100%%**********************]  1 of 1 completed\n",
      "[*********************100%%**********************]  1 of 1 completed\n",
      "[*********************100%%**********************]  1 of 1 completed\n",
      "[*********************100%%**********************]  1 of 1 completed\n"
     ]
    }
   ],
   "source": [
    "#Total Return \n",
    "Total_Return = []\n",
    "for ticker in tickers_list:\n",
    "    datatr = yf.download(ticker, period='10y')  \n",
    "    beginning_value = datatr['Adj Close'].iloc[0]\n",
    "    ending_value = datatr['Adj Close'].iloc[-1]\n",
    "\n",
    "    return_value = ((ending_value - beginning_value)/beginning_value)*100\n",
    "    Total_Return.append(round(return_value,2))\n",
    "\n",
    "#Annualized Return dependent on Total Return \n",
    "Annualized_Return = []\n",
    "for i in Total_Return:\n",
    "   AR = (i/10)*100\n",
    "   Annualized_Return.append(round(AR,2))\n"
   ]
  },
  {
   "cell_type": "code",
   "execution_count": 23,
   "metadata": {},
   "outputs": [
    {
     "data": {
      "text/html": [
       "<div>\n",
       "<style scoped>\n",
       "    .dataframe tbody tr th:only-of-type {\n",
       "        vertical-align: middle;\n",
       "    }\n",
       "\n",
       "    .dataframe tbody tr th {\n",
       "        vertical-align: top;\n",
       "    }\n",
       "\n",
       "    .dataframe thead th {\n",
       "        text-align: right;\n",
       "    }\n",
       "</style>\n",
       "<table border=\"1\" class=\"dataframe\">\n",
       "  <thead>\n",
       "    <tr style=\"text-align: right;\">\n",
       "      <th></th>\n",
       "      <th>Ticker</th>\n",
       "      <th>Portfolio Weight</th>\n",
       "      <th>Portfolio Weight Equally Weighted</th>\n",
       "      <th>Annualized Volatility</th>\n",
       "      <th>Beta against SPY</th>\n",
       "      <th>Beta against IWM</th>\n",
       "      <th>Beta against DIA</th>\n",
       "      <th>Average Weekly Drawdown</th>\n",
       "      <th>Maximum Weekly Drawdown</th>\n",
       "      <th>Total Return</th>\n",
       "      <th>Annualized Total Return</th>\n",
       "    </tr>\n",
       "  </thead>\n",
       "  <tbody>\n",
       "    <tr>\n",
       "      <th>ADBE</th>\n",
       "      <td>ADBE</td>\n",
       "      <td>26.18</td>\n",
       "      <td>0.142857</td>\n",
       "      <td>27.42</td>\n",
       "      <td>1.52</td>\n",
       "      <td>0.93</td>\n",
       "      <td>1.52</td>\n",
       "      <td>-2.58</td>\n",
       "      <td>-51.49</td>\n",
       "      <td>901.61</td>\n",
       "      <td>9016.1</td>\n",
       "    </tr>\n",
       "    <tr>\n",
       "      <th>CRM</th>\n",
       "      <td>CRM</td>\n",
       "      <td>10.31</td>\n",
       "      <td>0.142857</td>\n",
       "      <td>22.78</td>\n",
       "      <td>1.33</td>\n",
       "      <td>0.90</td>\n",
       "      <td>1.39</td>\n",
       "      <td>-2.46</td>\n",
       "      <td>-46.96</td>\n",
       "      <td>282.39</td>\n",
       "      <td>2823.9</td>\n",
       "    </tr>\n",
       "    <tr>\n",
       "      <th>GS</th>\n",
       "      <td>GS</td>\n",
       "      <td>16.18</td>\n",
       "      <td>0.142857</td>\n",
       "      <td>20.21</td>\n",
       "      <td>0.93</td>\n",
       "      <td>0.78</td>\n",
       "      <td>1.24</td>\n",
       "      <td>-1.99</td>\n",
       "      <td>-26.14</td>\n",
       "      <td>141.08</td>\n",
       "      <td>1410.8</td>\n",
       "    </tr>\n",
       "    <tr>\n",
       "      <th>NEE</th>\n",
       "      <td>NEE</td>\n",
       "      <td>2.67</td>\n",
       "      <td>0.142857</td>\n",
       "      <td>29.73</td>\n",
       "      <td>0.79</td>\n",
       "      <td>0.54</td>\n",
       "      <td>0.96</td>\n",
       "      <td>-2.07</td>\n",
       "      <td>-41.53</td>\n",
       "      <td>237.94</td>\n",
       "      <td>2379.4</td>\n",
       "    </tr>\n",
       "    <tr>\n",
       "      <th>NVDA</th>\n",
       "      <td>NVDA</td>\n",
       "      <td>22.68</td>\n",
       "      <td>0.142857</td>\n",
       "      <td>39.28</td>\n",
       "      <td>2.15</td>\n",
       "      <td>1.30</td>\n",
       "      <td>1.87</td>\n",
       "      <td>-3.57</td>\n",
       "      <td>-78.49</td>\n",
       "      <td>12163.89</td>\n",
       "      <td>121638.9</td>\n",
       "    </tr>\n",
       "    <tr>\n",
       "      <th>PG</th>\n",
       "      <td>PG</td>\n",
       "      <td>7.34</td>\n",
       "      <td>0.142857</td>\n",
       "      <td>13.00</td>\n",
       "      <td>0.49</td>\n",
       "      <td>0.30</td>\n",
       "      <td>0.65</td>\n",
       "      <td>-1.36</td>\n",
       "      <td>-22.86</td>\n",
       "      <td>154.46</td>\n",
       "      <td>1544.6</td>\n",
       "    </tr>\n",
       "    <tr>\n",
       "      <th>SMCI</th>\n",
       "      <td>SMCI</td>\n",
       "      <td>14.64</td>\n",
       "      <td>0.142857</td>\n",
       "      <td>73.70</td>\n",
       "      <td>1.36</td>\n",
       "      <td>0.97</td>\n",
       "      <td>1.25</td>\n",
       "      <td>-5.72</td>\n",
       "      <td>-85.92</td>\n",
       "      <td>1980.75</td>\n",
       "      <td>19807.5</td>\n",
       "    </tr>\n",
       "  </tbody>\n",
       "</table>\n",
       "</div>"
      ],
      "text/plain": [
       "     Ticker  Portfolio Weight  Portfolio Weight Equally Weighted  \\\n",
       "ADBE   ADBE             26.18                           0.142857   \n",
       "CRM     CRM             10.31                           0.142857   \n",
       "GS       GS             16.18                           0.142857   \n",
       "NEE     NEE              2.67                           0.142857   \n",
       "NVDA   NVDA             22.68                           0.142857   \n",
       "PG       PG              7.34                           0.142857   \n",
       "SMCI   SMCI             14.64                           0.142857   \n",
       "\n",
       "      Annualized Volatility  Beta against SPY  Beta against IWM  \\\n",
       "ADBE                  27.42              1.52              0.93   \n",
       "CRM                   22.78              1.33              0.90   \n",
       "GS                    20.21              0.93              0.78   \n",
       "NEE                   29.73              0.79              0.54   \n",
       "NVDA                  39.28              2.15              1.30   \n",
       "PG                    13.00              0.49              0.30   \n",
       "SMCI                  73.70              1.36              0.97   \n",
       "\n",
       "      Beta against DIA  Average Weekly Drawdown  Maximum Weekly Drawdown  \\\n",
       "ADBE              1.52                    -2.58                   -51.49   \n",
       "CRM               1.39                    -2.46                   -46.96   \n",
       "GS                1.24                    -1.99                   -26.14   \n",
       "NEE               0.96                    -2.07                   -41.53   \n",
       "NVDA              1.87                    -3.57                   -78.49   \n",
       "PG                0.65                    -1.36                   -22.86   \n",
       "SMCI              1.25                    -5.72                   -85.92   \n",
       "\n",
       "      Total Return  Annualized Total Return  \n",
       "ADBE        901.61                   9016.1  \n",
       "CRM         282.39                   2823.9  \n",
       "GS          141.08                   1410.8  \n",
       "NEE         237.94                   2379.4  \n",
       "NVDA      12163.89                 121638.9  \n",
       "PG          154.46                   1544.6  \n",
       "SMCI       1980.75                  19807.5  "
      ]
     },
     "execution_count": 23,
     "metadata": {},
     "output_type": "execute_result"
    }
   ],
   "source": [
    "#Creating a table \n",
    "Table1 = {'Ticker' : tickers_list ,\n",
    "          'Portfolio Weight' : portfolio_weight, \n",
    "          'Portfolio Weight Equally Weighted':weight,\n",
    "          'Annualized Volatility': annualized_volatility,\n",
    "          'Beta against SPY' : Beta_SPY,\n",
    "          'Beta against IWM': Beta_IWM ,\n",
    "          'Beta against DIA': Beta_DIA, \n",
    "          'Average Weekly Drawdown':avg_weekly_dd,\n",
    "          'Maximum Weekly Drawdown': max_weekly_dd,\n",
    "          'Total Return': Total_Return,\n",
    "          'Annualized Total Return': Annualized_Return}\n",
    "\n",
    "df1 = pd.DataFrame(Table1)\n",
    "\n",
    "df1"
   ]
  },
  {
   "cell_type": "code",
   "execution_count": 24,
   "metadata": {},
   "outputs": [
    {
     "name": "stdout",
     "output_type": "stream",
     "text": [
      "[*********************100%%**********************]  10 of 10 completed\n"
     ]
    },
    {
     "data": {
      "text/plain": [
       "[0.9, 0.82, 0.84]"
      ]
     },
     "execution_count": 24,
     "metadata": {},
     "output_type": "execute_result"
    }
   ],
   "source": [
    "# Table 2 \n",
    "# Data Pulls\n",
    "Data10y = yf.download(tickers_list + etf, period='10y')['Adj Close']\n",
    "returns_df = Data10y.pct_change().dropna()\n",
    "portfolio_returns = returns_df[tickers_list].sum(axis=1)\n",
    "\n",
    "#Data pull for Sharpe Ratio\n",
    "Data1y = yf.download(tickers_list + etf, period='1y')['Adj Close']\n",
    "returns_df1y = Data1y.pct_change().dropna()\n",
    "portfolio_returns1y = returns_df1y[tickers_list].sum(axis=1)\n",
    "etf_returns1y = returns_df1y[etf].sum(axis=1)\n"
   ]
  },
  {
   "cell_type": "code",
   "execution_count": 25,
   "metadata": {},
   "outputs": [
    {
     "name": "stdout",
     "output_type": "stream",
     "text": [
      "[*********************100%%**********************]  10 of 10 completed\n"
     ]
    }
   ],
   "source": [
    "# Correlation Against ETF\n",
    "correlation_etf = []\n",
    "\n",
    "for i in etf:\n",
    "    correlation = portfolio_returns.corr(returns_df[i])\n",
    "    correlation_etf.append(round(correlation, 2))\n"
   ]
  },
  {
   "cell_type": "code",
   "execution_count": null,
   "metadata": {},
   "outputs": [],
   "source": [
    "##(https://www.geeksforgeeks.org/python-numpy-cov-function/)\n",
    "# Covariance Against ETF\n",
    "Covariance_etf =[]\n",
    "\n",
    "for i in etf:\n",
    "    covariance = portfolio_returns.cov(returns_df[i])\n",
    "    Covariance_etf.append(round(covariance, 6))\n"
   ]
  },
  {
   "cell_type": "code",
   "execution_count": null,
   "metadata": {},
   "outputs": [],
   "source": [
    "#tracking error\n",
    "tracking_error = []\n",
    "for i in etf:\n",
    "    trackingerr = portfolio_returns - returns_df[i] \n",
    "    trackingerrstd = trackingerr.std()*100\n",
    "    tracking_error.append(round(trackingerrstd,2))\n"
   ]
  },
  {
   "cell_type": "code",
   "execution_count": null,
   "metadata": {},
   "outputs": [],
   "source": [
    "\n",
    "sharpe_ratio = []\n",
    "# Portfolio return, risk-free rate, and excess return\n",
    "risk_free_rate = 0.0459\n",
    "\n",
    "for i in etf:\n",
    "    excess_return = portfolio_returns1y - risk_free_rate\n",
    "    std_dev_excess_return = excess_return.std()\n",
    "    sharpe_ratio_calc = excess_return.mean() / std_dev_excess_return\n",
    "    sharpe_ratio.append(sharpe_ratio_calc)\n"
   ]
  },
  {
   "cell_type": "code",
   "execution_count": null,
   "metadata": {},
   "outputs": [],
   "source": [
    "Annualized_Volatility_etf = []\n",
    "\n",
    "for i in etf:\n",
    "    etf_returns = returns_df[i]\n",
    "    etf_volatility_raw = etf_returns.std() * np.sqrt(252) * 100\n",
    "    etf_annualized_volatility = round(etf_volatility_raw, 2)\n",
    "    Annualized_Volatility_etf.append(etf_annualized_volatility)\n",
    "\n",
    "# Calculate the annualized volatility spread\n",
    "Annualized_Volatility_spread = []\n",
    "\n",
    "for i in range(len(etf)):\n",
    "    annualized_volatility_b = annualized_volatility.std()\n",
    "    spread = annualized_volatility_b - Annualized_Volatility_etf[i]\n",
    "    Annualized_Volatility_spread.append(round(spread, 2))\n"
   ]
  },
  {
   "cell_type": "code",
   "execution_count": null,
   "metadata": {},
   "outputs": [],
   "source": [
    "#Correlation Matrix\n",
    "\n",
    "#Correlation Matrix(https://www.geeksforgeeks.org/create-a-correlation-matrix-using-python/)\n",
    "\n",
    "# Calculate the correlation matrix\n",
    "correlation_matrix = returns_df.corr()\n",
    "\n",
    "# Select relevant correlations for the equal-weighted portfolio, 3 ETFs, and 7 stocks\n",
    "selected_correlations = correlation_matrix.loc[tickers_list + etf, tickers_list + etf]\n",
    "plt.title('Correlation Heatmap')\n",
    "\n",
    "dataplot = sns.heatmap(selected_correlations, annot=True, cmap='vlag')\n",
    "plt.show()"
   ]
  }
 ],
 "metadata": {
  "kernelspec": {
   "display_name": "base",
   "language": "python",
   "name": "python3"
  },
  "language_info": {
   "codemirror_mode": {
    "name": "ipython",
    "version": 3
   },
   "file_extension": ".py",
   "mimetype": "text/x-python",
   "name": "python",
   "nbconvert_exporter": "python",
   "pygments_lexer": "ipython3",
   "version": "3.10.9"
  },
  "orig_nbformat": 4
 },
 "nbformat": 4,
 "nbformat_minor": 2
}
